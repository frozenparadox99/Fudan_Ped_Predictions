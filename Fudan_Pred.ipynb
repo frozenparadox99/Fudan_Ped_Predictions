{
  "nbformat": 4,
  "nbformat_minor": 0,
  "metadata": {
    "colab": {
      "provenance": [],
      "authorship_tag": "ABX9TyPkI86CJFYnWZxli+oODoop",
      "include_colab_link": true
    },
    "kernelspec": {
      "name": "python3",
      "display_name": "Python 3"
    },
    "language_info": {
      "name": "python"
    }
  },
  "cells": [
    {
      "cell_type": "markdown",
      "metadata": {
        "id": "view-in-github",
        "colab_type": "text"
      },
      "source": [
        "<a href=\"https://colab.research.google.com/github/frozenparadox99/Fudan_Ped_Predictions/blob/main/Fudan_Pred.ipynb\" target=\"_parent\"><img src=\"https://colab.research.google.com/assets/colab-badge.svg\" alt=\"Open In Colab\"/></a>"
      ]
    },
    {
      "cell_type": "code",
      "execution_count": 1,
      "metadata": {
        "id": "YK9BrtNvSDRS"
      },
      "outputs": [],
      "source": [
        "import cv2\n",
        "import matplotlib.pyplot as plt\n",
        "import os\n",
        "from PIL import Image\n",
        "import numpy as np\n",
        "import pandas as pd"
      ]
    },
    {
      "cell_type": "code",
      "source": [
        "%%shell\n",
        "\n",
        "# download the Penn-Fudan dataset\n",
        "wget https://www.cis.upenn.edu/~jshi/ped_html/PennFudanPed.zip .\n",
        "# extract it in the current folder\n",
        "unzip PennFudanPed.zip"
      ],
      "metadata": {
        "colab": {
          "base_uri": "https://localhost:8080/"
        },
        "id": "KrpTx3rFSGC0",
        "outputId": "53e01b95-165b-496c-cf35-a1d306fe0997"
      },
      "execution_count": 2,
      "outputs": [
        {
          "output_type": "stream",
          "name": "stdout",
          "text": [
            "--2023-04-13 06:24:11--  https://www.cis.upenn.edu/~jshi/ped_html/PennFudanPed.zip\n",
            "Resolving www.cis.upenn.edu (www.cis.upenn.edu)... 158.130.69.163, 2607:f470:8:64:5ea5::d\n",
            "Connecting to www.cis.upenn.edu (www.cis.upenn.edu)|158.130.69.163|:443... connected.\n",
            "HTTP request sent, awaiting response... 200 OK\n",
            "Length: 53723336 (51M) [application/zip]\n",
            "Saving to: ‘PennFudanPed.zip’\n",
            "\n",
            "PennFudanPed.zip    100%[===================>]  51.23M  29.2MB/s    in 1.8s    \n",
            "\n",
            "2023-04-13 06:24:13 (29.2 MB/s) - ‘PennFudanPed.zip’ saved [53723336/53723336]\n",
            "\n",
            "--2023-04-13 06:24:13--  http://./\n",
            "Resolving . (.)... failed: No address associated with hostname.\n",
            "wget: unable to resolve host address ‘.’\n",
            "FINISHED --2023-04-13 06:24:13--\n",
            "Total wall clock time: 2.1s\n",
            "Downloaded: 1 files, 51M in 1.8s (29.2 MB/s)\n",
            "Archive:  PennFudanPed.zip\n",
            "   creating: PennFudanPed/\n",
            "  inflating: PennFudanPed/added-object-list.txt  \n",
            "   creating: PennFudanPed/Annotation/\n",
            "  inflating: PennFudanPed/Annotation/FudanPed00001.txt  \n",
            "  inflating: PennFudanPed/Annotation/FudanPed00002.txt  \n",
            "  inflating: PennFudanPed/Annotation/FudanPed00003.txt  \n",
            "  inflating: PennFudanPed/Annotation/FudanPed00004.txt  \n",
            "  inflating: PennFudanPed/Annotation/FudanPed00005.txt  \n",
            "  inflating: PennFudanPed/Annotation/FudanPed00006.txt  \n",
            "  inflating: PennFudanPed/Annotation/FudanPed00007.txt  \n",
            "  inflating: PennFudanPed/Annotation/FudanPed00008.txt  \n",
            "  inflating: PennFudanPed/Annotation/FudanPed00009.txt  \n",
            "  inflating: PennFudanPed/Annotation/FudanPed00010.txt  \n",
            "  inflating: PennFudanPed/Annotation/FudanPed00011.txt  \n",
            "  inflating: PennFudanPed/Annotation/FudanPed00012.txt  \n",
            "  inflating: PennFudanPed/Annotation/FudanPed00013.txt  \n",
            "  inflating: PennFudanPed/Annotation/FudanPed00014.txt  \n",
            "  inflating: PennFudanPed/Annotation/FudanPed00015.txt  \n",
            "  inflating: PennFudanPed/Annotation/FudanPed00016.txt  \n",
            "  inflating: PennFudanPed/Annotation/FudanPed00017.txt  \n",
            "  inflating: PennFudanPed/Annotation/FudanPed00018.txt  \n",
            "  inflating: PennFudanPed/Annotation/FudanPed00019.txt  \n",
            "  inflating: PennFudanPed/Annotation/FudanPed00020.txt  \n",
            "  inflating: PennFudanPed/Annotation/FudanPed00021.txt  \n",
            "  inflating: PennFudanPed/Annotation/FudanPed00022.txt  \n",
            "  inflating: PennFudanPed/Annotation/FudanPed00023.txt  \n",
            "  inflating: PennFudanPed/Annotation/FudanPed00024.txt  \n",
            "  inflating: PennFudanPed/Annotation/FudanPed00025.txt  \n",
            "  inflating: PennFudanPed/Annotation/FudanPed00026.txt  \n",
            "  inflating: PennFudanPed/Annotation/FudanPed00027.txt  \n",
            "  inflating: PennFudanPed/Annotation/FudanPed00028.txt  \n",
            "  inflating: PennFudanPed/Annotation/FudanPed00029.txt  \n",
            "  inflating: PennFudanPed/Annotation/FudanPed00030.txt  \n",
            "  inflating: PennFudanPed/Annotation/FudanPed00031.txt  \n",
            "  inflating: PennFudanPed/Annotation/FudanPed00032.txt  \n",
            "  inflating: PennFudanPed/Annotation/FudanPed00033.txt  \n",
            "  inflating: PennFudanPed/Annotation/FudanPed00034.txt  \n",
            "  inflating: PennFudanPed/Annotation/FudanPed00035.txt  \n",
            "  inflating: PennFudanPed/Annotation/FudanPed00036.txt  \n",
            "  inflating: PennFudanPed/Annotation/FudanPed00037.txt  \n",
            "  inflating: PennFudanPed/Annotation/FudanPed00038.txt  \n",
            "  inflating: PennFudanPed/Annotation/FudanPed00039.txt  \n",
            "  inflating: PennFudanPed/Annotation/FudanPed00040.txt  \n",
            "  inflating: PennFudanPed/Annotation/FudanPed00041.txt  \n",
            "  inflating: PennFudanPed/Annotation/FudanPed00042.txt  \n",
            "  inflating: PennFudanPed/Annotation/FudanPed00043.txt  \n",
            "  inflating: PennFudanPed/Annotation/FudanPed00044.txt  \n",
            "  inflating: PennFudanPed/Annotation/FudanPed00045.txt  \n",
            "  inflating: PennFudanPed/Annotation/FudanPed00046.txt  \n",
            "  inflating: PennFudanPed/Annotation/FudanPed00047.txt  \n",
            "  inflating: PennFudanPed/Annotation/FudanPed00048.txt  \n",
            "  inflating: PennFudanPed/Annotation/FudanPed00049.txt  \n",
            "  inflating: PennFudanPed/Annotation/FudanPed00050.txt  \n",
            "  inflating: PennFudanPed/Annotation/FudanPed00051.txt  \n",
            "  inflating: PennFudanPed/Annotation/FudanPed00052.txt  \n",
            "  inflating: PennFudanPed/Annotation/FudanPed00053.txt  \n",
            "  inflating: PennFudanPed/Annotation/FudanPed00054.txt  \n",
            "  inflating: PennFudanPed/Annotation/FudanPed00055.txt  \n",
            "  inflating: PennFudanPed/Annotation/FudanPed00056.txt  \n",
            "  inflating: PennFudanPed/Annotation/FudanPed00057.txt  \n",
            "  inflating: PennFudanPed/Annotation/FudanPed00058.txt  \n",
            "  inflating: PennFudanPed/Annotation/FudanPed00059.txt  \n",
            "  inflating: PennFudanPed/Annotation/FudanPed00060.txt  \n",
            "  inflating: PennFudanPed/Annotation/FudanPed00061.txt  \n",
            "  inflating: PennFudanPed/Annotation/FudanPed00062.txt  \n",
            "  inflating: PennFudanPed/Annotation/FudanPed00063.txt  \n",
            "  inflating: PennFudanPed/Annotation/FudanPed00064.txt  \n",
            "  inflating: PennFudanPed/Annotation/FudanPed00065.txt  \n",
            "  inflating: PennFudanPed/Annotation/FudanPed00066.txt  \n",
            "  inflating: PennFudanPed/Annotation/FudanPed00067.txt  \n",
            "  inflating: PennFudanPed/Annotation/FudanPed00068.txt  \n",
            "  inflating: PennFudanPed/Annotation/FudanPed00069.txt  \n",
            "  inflating: PennFudanPed/Annotation/FudanPed00070.txt  \n",
            "  inflating: PennFudanPed/Annotation/FudanPed00071.txt  \n",
            "  inflating: PennFudanPed/Annotation/FudanPed00072.txt  \n",
            "  inflating: PennFudanPed/Annotation/FudanPed00073.txt  \n",
            "  inflating: PennFudanPed/Annotation/FudanPed00074.txt  \n",
            "  inflating: PennFudanPed/Annotation/PennPed00001.txt  \n",
            "  inflating: PennFudanPed/Annotation/PennPed00002.txt  \n",
            "  inflating: PennFudanPed/Annotation/PennPed00003.txt  \n",
            "  inflating: PennFudanPed/Annotation/PennPed00004.txt  \n",
            "  inflating: PennFudanPed/Annotation/PennPed00005.txt  \n",
            "  inflating: PennFudanPed/Annotation/PennPed00006.txt  \n",
            "  inflating: PennFudanPed/Annotation/PennPed00007.txt  \n",
            "  inflating: PennFudanPed/Annotation/PennPed00008.txt  \n",
            "  inflating: PennFudanPed/Annotation/PennPed00009.txt  \n",
            "  inflating: PennFudanPed/Annotation/PennPed00010.txt  \n",
            "  inflating: PennFudanPed/Annotation/PennPed00011.txt  \n",
            "  inflating: PennFudanPed/Annotation/PennPed00012.txt  \n",
            "  inflating: PennFudanPed/Annotation/PennPed00013.txt  \n",
            "  inflating: PennFudanPed/Annotation/PennPed00014.txt  \n",
            "  inflating: PennFudanPed/Annotation/PennPed00015.txt  \n",
            "  inflating: PennFudanPed/Annotation/PennPed00016.txt  \n",
            "  inflating: PennFudanPed/Annotation/PennPed00017.txt  \n",
            "  inflating: PennFudanPed/Annotation/PennPed00018.txt  \n",
            "  inflating: PennFudanPed/Annotation/PennPed00019.txt  \n",
            "  inflating: PennFudanPed/Annotation/PennPed00020.txt  \n",
            "  inflating: PennFudanPed/Annotation/PennPed00021.txt  \n",
            "  inflating: PennFudanPed/Annotation/PennPed00022.txt  \n",
            "  inflating: PennFudanPed/Annotation/PennPed00023.txt  \n",
            "  inflating: PennFudanPed/Annotation/PennPed00024.txt  \n",
            "  inflating: PennFudanPed/Annotation/PennPed00025.txt  \n",
            "  inflating: PennFudanPed/Annotation/PennPed00026.txt  \n",
            "  inflating: PennFudanPed/Annotation/PennPed00027.txt  \n",
            "  inflating: PennFudanPed/Annotation/PennPed00028.txt  \n",
            "  inflating: PennFudanPed/Annotation/PennPed00029.txt  \n",
            "  inflating: PennFudanPed/Annotation/PennPed00030.txt  \n",
            "  inflating: PennFudanPed/Annotation/PennPed00031.txt  \n",
            "  inflating: PennFudanPed/Annotation/PennPed00032.txt  \n",
            "  inflating: PennFudanPed/Annotation/PennPed00033.txt  \n",
            "  inflating: PennFudanPed/Annotation/PennPed00034.txt  \n",
            "  inflating: PennFudanPed/Annotation/PennPed00035.txt  \n",
            "  inflating: PennFudanPed/Annotation/PennPed00036.txt  \n",
            "  inflating: PennFudanPed/Annotation/PennPed00037.txt  \n",
            "  inflating: PennFudanPed/Annotation/PennPed00038.txt  \n",
            "  inflating: PennFudanPed/Annotation/PennPed00039.txt  \n",
            "  inflating: PennFudanPed/Annotation/PennPed00040.txt  \n",
            "  inflating: PennFudanPed/Annotation/PennPed00041.txt  \n",
            "  inflating: PennFudanPed/Annotation/PennPed00042.txt  \n",
            "  inflating: PennFudanPed/Annotation/PennPed00043.txt  \n",
            "  inflating: PennFudanPed/Annotation/PennPed00044.txt  \n",
            "  inflating: PennFudanPed/Annotation/PennPed00045.txt  \n",
            "  inflating: PennFudanPed/Annotation/PennPed00046.txt  \n",
            "  inflating: PennFudanPed/Annotation/PennPed00047.txt  \n",
            "  inflating: PennFudanPed/Annotation/PennPed00048.txt  \n",
            "  inflating: PennFudanPed/Annotation/PennPed00049.txt  \n",
            "  inflating: PennFudanPed/Annotation/PennPed00050.txt  \n",
            "  inflating: PennFudanPed/Annotation/PennPed00051.txt  \n",
            "  inflating: PennFudanPed/Annotation/PennPed00052.txt  \n",
            "  inflating: PennFudanPed/Annotation/PennPed00053.txt  \n",
            "  inflating: PennFudanPed/Annotation/PennPed00054.txt  \n",
            "  inflating: PennFudanPed/Annotation/PennPed00055.txt  \n",
            "  inflating: PennFudanPed/Annotation/PennPed00056.txt  \n",
            "  inflating: PennFudanPed/Annotation/PennPed00057.txt  \n",
            "  inflating: PennFudanPed/Annotation/PennPed00058.txt  \n",
            "  inflating: PennFudanPed/Annotation/PennPed00059.txt  \n",
            "  inflating: PennFudanPed/Annotation/PennPed00060.txt  \n",
            "  inflating: PennFudanPed/Annotation/PennPed00061.txt  \n",
            "  inflating: PennFudanPed/Annotation/PennPed00062.txt  \n",
            "  inflating: PennFudanPed/Annotation/PennPed00063.txt  \n",
            "  inflating: PennFudanPed/Annotation/PennPed00064.txt  \n",
            "  inflating: PennFudanPed/Annotation/PennPed00065.txt  \n",
            "  inflating: PennFudanPed/Annotation/PennPed00066.txt  \n",
            "  inflating: PennFudanPed/Annotation/PennPed00067.txt  \n",
            "  inflating: PennFudanPed/Annotation/PennPed00068.txt  \n",
            "  inflating: PennFudanPed/Annotation/PennPed00069.txt  \n",
            "  inflating: PennFudanPed/Annotation/PennPed00070.txt  \n",
            "  inflating: PennFudanPed/Annotation/PennPed00071.txt  \n",
            "  inflating: PennFudanPed/Annotation/PennPed00072.txt  \n",
            "  inflating: PennFudanPed/Annotation/PennPed00073.txt  \n",
            "  inflating: PennFudanPed/Annotation/PennPed00074.txt  \n",
            "  inflating: PennFudanPed/Annotation/PennPed00075.txt  \n",
            "  inflating: PennFudanPed/Annotation/PennPed00076.txt  \n",
            "  inflating: PennFudanPed/Annotation/PennPed00077.txt  \n",
            "  inflating: PennFudanPed/Annotation/PennPed00078.txt  \n",
            "  inflating: PennFudanPed/Annotation/PennPed00079.txt  \n",
            "  inflating: PennFudanPed/Annotation/PennPed00080.txt  \n",
            "  inflating: PennFudanPed/Annotation/PennPed00081.txt  \n",
            "  inflating: PennFudanPed/Annotation/PennPed00082.txt  \n",
            "  inflating: PennFudanPed/Annotation/PennPed00083.txt  \n",
            "  inflating: PennFudanPed/Annotation/PennPed00084.txt  \n",
            "  inflating: PennFudanPed/Annotation/PennPed00085.txt  \n",
            "  inflating: PennFudanPed/Annotation/PennPed00086.txt  \n",
            "  inflating: PennFudanPed/Annotation/PennPed00087.txt  \n",
            "  inflating: PennFudanPed/Annotation/PennPed00088.txt  \n",
            "  inflating: PennFudanPed/Annotation/PennPed00089.txt  \n",
            "  inflating: PennFudanPed/Annotation/PennPed00090.txt  \n",
            "  inflating: PennFudanPed/Annotation/PennPed00091.txt  \n",
            "  inflating: PennFudanPed/Annotation/PennPed00092.txt  \n",
            "  inflating: PennFudanPed/Annotation/PennPed00093.txt  \n",
            "  inflating: PennFudanPed/Annotation/PennPed00094.txt  \n",
            "  inflating: PennFudanPed/Annotation/PennPed00095.txt  \n",
            "  inflating: PennFudanPed/Annotation/PennPed00096.txt  \n",
            "   creating: PennFudanPed/PedMasks/\n",
            "  inflating: PennFudanPed/PedMasks/FudanPed00001_mask.png  \n",
            "  inflating: PennFudanPed/PedMasks/FudanPed00002_mask.png  \n",
            "  inflating: PennFudanPed/PedMasks/FudanPed00003_mask.png  \n",
            "  inflating: PennFudanPed/PedMasks/FudanPed00004_mask.png  \n",
            "  inflating: PennFudanPed/PedMasks/FudanPed00005_mask.png  \n",
            "  inflating: PennFudanPed/PedMasks/FudanPed00006_mask.png  \n",
            "  inflating: PennFudanPed/PedMasks/FudanPed00007_mask.png  \n",
            "  inflating: PennFudanPed/PedMasks/FudanPed00008_mask.png  \n",
            "  inflating: PennFudanPed/PedMasks/FudanPed00009_mask.png  \n",
            "  inflating: PennFudanPed/PedMasks/FudanPed00010_mask.png  \n",
            "  inflating: PennFudanPed/PedMasks/FudanPed00011_mask.png  \n",
            "  inflating: PennFudanPed/PedMasks/FudanPed00012_mask.png  \n",
            "  inflating: PennFudanPed/PedMasks/FudanPed00013_mask.png  \n",
            "  inflating: PennFudanPed/PedMasks/FudanPed00014_mask.png  \n",
            " extracting: PennFudanPed/PedMasks/FudanPed00015_mask.png  \n",
            "  inflating: PennFudanPed/PedMasks/FudanPed00016_mask.png  \n",
            "  inflating: PennFudanPed/PedMasks/FudanPed00017_mask.png  \n",
            " extracting: PennFudanPed/PedMasks/FudanPed00018_mask.png  \n",
            "  inflating: PennFudanPed/PedMasks/FudanPed00019_mask.png  \n",
            "  inflating: PennFudanPed/PedMasks/FudanPed00020_mask.png  \n",
            "  inflating: PennFudanPed/PedMasks/FudanPed00021_mask.png  \n",
            "  inflating: PennFudanPed/PedMasks/FudanPed00022_mask.png  \n",
            "  inflating: PennFudanPed/PedMasks/FudanPed00023_mask.png  \n",
            "  inflating: PennFudanPed/PedMasks/FudanPed00024_mask.png  \n",
            "  inflating: PennFudanPed/PedMasks/FudanPed00025_mask.png  \n",
            "  inflating: PennFudanPed/PedMasks/FudanPed00026_mask.png  \n",
            "  inflating: PennFudanPed/PedMasks/FudanPed00027_mask.png  \n",
            " extracting: PennFudanPed/PedMasks/FudanPed00028_mask.png  \n",
            "  inflating: PennFudanPed/PedMasks/FudanPed00029_mask.png  \n",
            "  inflating: PennFudanPed/PedMasks/FudanPed00030_mask.png  \n",
            "  inflating: PennFudanPed/PedMasks/FudanPed00031_mask.png  \n",
            "  inflating: PennFudanPed/PedMasks/FudanPed00032_mask.png  \n",
            "  inflating: PennFudanPed/PedMasks/FudanPed00033_mask.png  \n",
            "  inflating: PennFudanPed/PedMasks/FudanPed00034_mask.png  \n",
            "  inflating: PennFudanPed/PedMasks/FudanPed00035_mask.png  \n",
            "  inflating: PennFudanPed/PedMasks/FudanPed00036_mask.png  \n",
            "  inflating: PennFudanPed/PedMasks/FudanPed00037_mask.png  \n",
            "  inflating: PennFudanPed/PedMasks/FudanPed00038_mask.png  \n",
            "  inflating: PennFudanPed/PedMasks/FudanPed00039_mask.png  \n",
            "  inflating: PennFudanPed/PedMasks/FudanPed00040_mask.png  \n",
            "  inflating: PennFudanPed/PedMasks/FudanPed00041_mask.png  \n",
            "  inflating: PennFudanPed/PedMasks/FudanPed00042_mask.png  \n",
            "  inflating: PennFudanPed/PedMasks/FudanPed00043_mask.png  \n",
            "  inflating: PennFudanPed/PedMasks/FudanPed00044_mask.png  \n",
            "  inflating: PennFudanPed/PedMasks/FudanPed00045_mask.png  \n",
            "  inflating: PennFudanPed/PedMasks/FudanPed00046_mask.png  \n",
            "  inflating: PennFudanPed/PedMasks/FudanPed00047_mask.png  \n",
            "  inflating: PennFudanPed/PedMasks/FudanPed00048_mask.png  \n",
            "  inflating: PennFudanPed/PedMasks/FudanPed00049_mask.png  \n",
            "  inflating: PennFudanPed/PedMasks/FudanPed00050_mask.png  \n",
            "  inflating: PennFudanPed/PedMasks/FudanPed00051_mask.png  \n",
            "  inflating: PennFudanPed/PedMasks/FudanPed00052_mask.png  \n",
            "  inflating: PennFudanPed/PedMasks/FudanPed00053_mask.png  \n",
            "  inflating: PennFudanPed/PedMasks/FudanPed00054_mask.png  \n",
            "  inflating: PennFudanPed/PedMasks/FudanPed00055_mask.png  \n",
            "  inflating: PennFudanPed/PedMasks/FudanPed00056_mask.png  \n",
            "  inflating: PennFudanPed/PedMasks/FudanPed00057_mask.png  \n",
            "  inflating: PennFudanPed/PedMasks/FudanPed00058_mask.png  \n",
            "  inflating: PennFudanPed/PedMasks/FudanPed00059_mask.png  \n",
            "  inflating: PennFudanPed/PedMasks/FudanPed00060_mask.png  \n",
            "  inflating: PennFudanPed/PedMasks/FudanPed00061_mask.png  \n",
            "  inflating: PennFudanPed/PedMasks/FudanPed00062_mask.png  \n",
            "  inflating: PennFudanPed/PedMasks/FudanPed00063_mask.png  \n",
            "  inflating: PennFudanPed/PedMasks/FudanPed00064_mask.png  \n",
            "  inflating: PennFudanPed/PedMasks/FudanPed00065_mask.png  \n",
            "  inflating: PennFudanPed/PedMasks/FudanPed00066_mask.png  \n",
            "  inflating: PennFudanPed/PedMasks/FudanPed00067_mask.png  \n",
            "  inflating: PennFudanPed/PedMasks/FudanPed00068_mask.png  \n",
            "  inflating: PennFudanPed/PedMasks/FudanPed00069_mask.png  \n",
            "  inflating: PennFudanPed/PedMasks/FudanPed00070_mask.png  \n",
            "  inflating: PennFudanPed/PedMasks/FudanPed00071_mask.png  \n",
            "  inflating: PennFudanPed/PedMasks/FudanPed00072_mask.png  \n",
            "  inflating: PennFudanPed/PedMasks/FudanPed00073_mask.png  \n",
            "  inflating: PennFudanPed/PedMasks/FudanPed00074_mask.png  \n",
            "  inflating: PennFudanPed/PedMasks/PennPed00001_mask.png  \n",
            "  inflating: PennFudanPed/PedMasks/PennPed00002_mask.png  \n",
            "  inflating: PennFudanPed/PedMasks/PennPed00003_mask.png  \n",
            "  inflating: PennFudanPed/PedMasks/PennPed00004_mask.png  \n",
            "  inflating: PennFudanPed/PedMasks/PennPed00005_mask.png  \n",
            "  inflating: PennFudanPed/PedMasks/PennPed00006_mask.png  \n",
            "  inflating: PennFudanPed/PedMasks/PennPed00007_mask.png  \n",
            "  inflating: PennFudanPed/PedMasks/PennPed00008_mask.png  \n",
            "  inflating: PennFudanPed/PedMasks/PennPed00009_mask.png  \n",
            "  inflating: PennFudanPed/PedMasks/PennPed00010_mask.png  \n",
            "  inflating: PennFudanPed/PedMasks/PennPed00011_mask.png  \n",
            "  inflating: PennFudanPed/PedMasks/PennPed00012_mask.png  \n",
            "  inflating: PennFudanPed/PedMasks/PennPed00013_mask.png  \n",
            "  inflating: PennFudanPed/PedMasks/PennPed00014_mask.png  \n",
            "  inflating: PennFudanPed/PedMasks/PennPed00015_mask.png  \n",
            "  inflating: PennFudanPed/PedMasks/PennPed00016_mask.png  \n",
            "  inflating: PennFudanPed/PedMasks/PennPed00017_mask.png  \n",
            "  inflating: PennFudanPed/PedMasks/PennPed00018_mask.png  \n",
            "  inflating: PennFudanPed/PedMasks/PennPed00019_mask.png  \n",
            "  inflating: PennFudanPed/PedMasks/PennPed00020_mask.png  \n",
            "  inflating: PennFudanPed/PedMasks/PennPed00021_mask.png  \n",
            "  inflating: PennFudanPed/PedMasks/PennPed00022_mask.png  \n",
            "  inflating: PennFudanPed/PedMasks/PennPed00023_mask.png  \n",
            "  inflating: PennFudanPed/PedMasks/PennPed00024_mask.png  \n",
            "  inflating: PennFudanPed/PedMasks/PennPed00025_mask.png  \n",
            "  inflating: PennFudanPed/PedMasks/PennPed00026_mask.png  \n",
            "  inflating: PennFudanPed/PedMasks/PennPed00027_mask.png  \n",
            "  inflating: PennFudanPed/PedMasks/PennPed00028_mask.png  \n",
            "  inflating: PennFudanPed/PedMasks/PennPed00029_mask.png  \n",
            "  inflating: PennFudanPed/PedMasks/PennPed00030_mask.png  \n",
            "  inflating: PennFudanPed/PedMasks/PennPed00031_mask.png  \n",
            "  inflating: PennFudanPed/PedMasks/PennPed00032_mask.png  \n",
            "  inflating: PennFudanPed/PedMasks/PennPed00033_mask.png  \n",
            "  inflating: PennFudanPed/PedMasks/PennPed00034_mask.png  \n",
            "  inflating: PennFudanPed/PedMasks/PennPed00035_mask.png  \n",
            "  inflating: PennFudanPed/PedMasks/PennPed00036_mask.png  \n",
            "  inflating: PennFudanPed/PedMasks/PennPed00037_mask.png  \n",
            "  inflating: PennFudanPed/PedMasks/PennPed00038_mask.png  \n",
            "  inflating: PennFudanPed/PedMasks/PennPed00039_mask.png  \n",
            "  inflating: PennFudanPed/PedMasks/PennPed00040_mask.png  \n",
            "  inflating: PennFudanPed/PedMasks/PennPed00041_mask.png  \n",
            "  inflating: PennFudanPed/PedMasks/PennPed00042_mask.png  \n",
            "  inflating: PennFudanPed/PedMasks/PennPed00043_mask.png  \n",
            "  inflating: PennFudanPed/PedMasks/PennPed00044_mask.png  \n",
            "  inflating: PennFudanPed/PedMasks/PennPed00045_mask.png  \n",
            "  inflating: PennFudanPed/PedMasks/PennPed00046_mask.png  \n",
            "  inflating: PennFudanPed/PedMasks/PennPed00047_mask.png  \n",
            "  inflating: PennFudanPed/PedMasks/PennPed00048_mask.png  \n",
            "  inflating: PennFudanPed/PedMasks/PennPed00049_mask.png  \n",
            "  inflating: PennFudanPed/PedMasks/PennPed00050_mask.png  \n",
            "  inflating: PennFudanPed/PedMasks/PennPed00051_mask.png  \n",
            "  inflating: PennFudanPed/PedMasks/PennPed00052_mask.png  \n",
            " extracting: PennFudanPed/PedMasks/PennPed00053_mask.png  \n",
            "  inflating: PennFudanPed/PedMasks/PennPed00054_mask.png  \n",
            "  inflating: PennFudanPed/PedMasks/PennPed00055_mask.png  \n",
            "  inflating: PennFudanPed/PedMasks/PennPed00056_mask.png  \n",
            "  inflating: PennFudanPed/PedMasks/PennPed00057_mask.png  \n",
            "  inflating: PennFudanPed/PedMasks/PennPed00058_mask.png  \n",
            "  inflating: PennFudanPed/PedMasks/PennPed00059_mask.png  \n",
            "  inflating: PennFudanPed/PedMasks/PennPed00060_mask.png  \n",
            "  inflating: PennFudanPed/PedMasks/PennPed00061_mask.png  \n",
            " extracting: PennFudanPed/PedMasks/PennPed00062_mask.png  \n",
            "  inflating: PennFudanPed/PedMasks/PennPed00063_mask.png  \n",
            "  inflating: PennFudanPed/PedMasks/PennPed00064_mask.png  \n",
            "  inflating: PennFudanPed/PedMasks/PennPed00065_mask.png  \n",
            " extracting: PennFudanPed/PedMasks/PennPed00066_mask.png  \n",
            "  inflating: PennFudanPed/PedMasks/PennPed00067_mask.png  \n",
            "  inflating: PennFudanPed/PedMasks/PennPed00068_mask.png  \n",
            " extracting: PennFudanPed/PedMasks/PennPed00069_mask.png  \n",
            " extracting: PennFudanPed/PedMasks/PennPed00070_mask.png  \n",
            "  inflating: PennFudanPed/PedMasks/PennPed00071_mask.png  \n",
            " extracting: PennFudanPed/PedMasks/PennPed00072_mask.png  \n",
            "  inflating: PennFudanPed/PedMasks/PennPed00073_mask.png  \n",
            " extracting: PennFudanPed/PedMasks/PennPed00074_mask.png  \n",
            "  inflating: PennFudanPed/PedMasks/PennPed00075_mask.png  \n",
            "  inflating: PennFudanPed/PedMasks/PennPed00076_mask.png  \n",
            "  inflating: PennFudanPed/PedMasks/PennPed00077_mask.png  \n",
            "  inflating: PennFudanPed/PedMasks/PennPed00078_mask.png  \n",
            "  inflating: PennFudanPed/PedMasks/PennPed00079_mask.png  \n",
            "  inflating: PennFudanPed/PedMasks/PennPed00080_mask.png  \n",
            "  inflating: PennFudanPed/PedMasks/PennPed00081_mask.png  \n",
            "  inflating: PennFudanPed/PedMasks/PennPed00082_mask.png  \n",
            " extracting: PennFudanPed/PedMasks/PennPed00083_mask.png  \n",
            " extracting: PennFudanPed/PedMasks/PennPed00084_mask.png  \n",
            "  inflating: PennFudanPed/PedMasks/PennPed00085_mask.png  \n",
            " extracting: PennFudanPed/PedMasks/PennPed00086_mask.png  \n",
            "  inflating: PennFudanPed/PedMasks/PennPed00087_mask.png  \n",
            "  inflating: PennFudanPed/PedMasks/PennPed00088_mask.png  \n",
            " extracting: PennFudanPed/PedMasks/PennPed00089_mask.png  \n",
            " extracting: PennFudanPed/PedMasks/PennPed00090_mask.png  \n",
            "  inflating: PennFudanPed/PedMasks/PennPed00091_mask.png  \n",
            "  inflating: PennFudanPed/PedMasks/PennPed00092_mask.png  \n",
            "  inflating: PennFudanPed/PedMasks/PennPed00093_mask.png  \n",
            "  inflating: PennFudanPed/PedMasks/PennPed00094_mask.png  \n",
            "  inflating: PennFudanPed/PedMasks/PennPed00095_mask.png  \n",
            " extracting: PennFudanPed/PedMasks/PennPed00096_mask.png  \n",
            "   creating: PennFudanPed/PNGImages/\n",
            "  inflating: PennFudanPed/PNGImages/FudanPed00001.png  \n",
            "  inflating: PennFudanPed/PNGImages/FudanPed00002.png  \n",
            "  inflating: PennFudanPed/PNGImages/FudanPed00003.png  \n",
            "  inflating: PennFudanPed/PNGImages/FudanPed00004.png  \n",
            "  inflating: PennFudanPed/PNGImages/FudanPed00005.png  \n",
            "  inflating: PennFudanPed/PNGImages/FudanPed00006.png  \n",
            "  inflating: PennFudanPed/PNGImages/FudanPed00007.png  \n",
            "  inflating: PennFudanPed/PNGImages/FudanPed00008.png  \n",
            "  inflating: PennFudanPed/PNGImages/FudanPed00009.png  \n",
            "  inflating: PennFudanPed/PNGImages/FudanPed00010.png  \n",
            "  inflating: PennFudanPed/PNGImages/FudanPed00011.png  \n",
            "  inflating: PennFudanPed/PNGImages/FudanPed00012.png  \n",
            "  inflating: PennFudanPed/PNGImages/FudanPed00013.png  \n",
            "  inflating: PennFudanPed/PNGImages/FudanPed00014.png  \n",
            "  inflating: PennFudanPed/PNGImages/FudanPed00015.png  \n",
            "  inflating: PennFudanPed/PNGImages/FudanPed00016.png  \n",
            "  inflating: PennFudanPed/PNGImages/FudanPed00017.png  \n",
            "  inflating: PennFudanPed/PNGImages/FudanPed00018.png  \n",
            "  inflating: PennFudanPed/PNGImages/FudanPed00019.png  \n",
            "  inflating: PennFudanPed/PNGImages/FudanPed00020.png  \n",
            "  inflating: PennFudanPed/PNGImages/FudanPed00021.png  \n",
            "  inflating: PennFudanPed/PNGImages/FudanPed00022.png  \n",
            "  inflating: PennFudanPed/PNGImages/FudanPed00023.png  \n",
            "  inflating: PennFudanPed/PNGImages/FudanPed00024.png  \n",
            "  inflating: PennFudanPed/PNGImages/FudanPed00025.png  \n",
            "  inflating: PennFudanPed/PNGImages/FudanPed00026.png  \n",
            "  inflating: PennFudanPed/PNGImages/FudanPed00027.png  \n",
            "  inflating: PennFudanPed/PNGImages/FudanPed00028.png  \n",
            "  inflating: PennFudanPed/PNGImages/FudanPed00029.png  \n",
            "  inflating: PennFudanPed/PNGImages/FudanPed00030.png  \n",
            "  inflating: PennFudanPed/PNGImages/FudanPed00031.png  \n",
            "  inflating: PennFudanPed/PNGImages/FudanPed00032.png  \n",
            "  inflating: PennFudanPed/PNGImages/FudanPed00033.png  \n",
            "  inflating: PennFudanPed/PNGImages/FudanPed00034.png  \n",
            "  inflating: PennFudanPed/PNGImages/FudanPed00035.png  \n",
            "  inflating: PennFudanPed/PNGImages/FudanPed00036.png  \n",
            "  inflating: PennFudanPed/PNGImages/FudanPed00037.png  \n",
            "  inflating: PennFudanPed/PNGImages/FudanPed00038.png  \n",
            "  inflating: PennFudanPed/PNGImages/FudanPed00039.png  \n",
            "  inflating: PennFudanPed/PNGImages/FudanPed00040.png  \n",
            "  inflating: PennFudanPed/PNGImages/FudanPed00041.png  \n",
            "  inflating: PennFudanPed/PNGImages/FudanPed00042.png  \n",
            "  inflating: PennFudanPed/PNGImages/FudanPed00043.png  \n",
            "  inflating: PennFudanPed/PNGImages/FudanPed00044.png  \n",
            "  inflating: PennFudanPed/PNGImages/FudanPed00045.png  \n",
            "  inflating: PennFudanPed/PNGImages/FudanPed00046.png  \n",
            "  inflating: PennFudanPed/PNGImages/FudanPed00047.png  \n",
            "  inflating: PennFudanPed/PNGImages/FudanPed00048.png  \n",
            "  inflating: PennFudanPed/PNGImages/FudanPed00049.png  \n",
            "  inflating: PennFudanPed/PNGImages/FudanPed00050.png  \n",
            "  inflating: PennFudanPed/PNGImages/FudanPed00051.png  \n",
            "  inflating: PennFudanPed/PNGImages/FudanPed00052.png  \n",
            "  inflating: PennFudanPed/PNGImages/FudanPed00053.png  \n",
            "  inflating: PennFudanPed/PNGImages/FudanPed00054.png  \n",
            "  inflating: PennFudanPed/PNGImages/FudanPed00055.png  \n",
            "  inflating: PennFudanPed/PNGImages/FudanPed00056.png  \n",
            "  inflating: PennFudanPed/PNGImages/FudanPed00057.png  \n",
            "  inflating: PennFudanPed/PNGImages/FudanPed00058.png  \n",
            "  inflating: PennFudanPed/PNGImages/FudanPed00059.png  \n",
            "  inflating: PennFudanPed/PNGImages/FudanPed00060.png  \n",
            "  inflating: PennFudanPed/PNGImages/FudanPed00061.png  \n",
            "  inflating: PennFudanPed/PNGImages/FudanPed00062.png  \n",
            "  inflating: PennFudanPed/PNGImages/FudanPed00063.png  \n",
            "  inflating: PennFudanPed/PNGImages/FudanPed00064.png  \n",
            "  inflating: PennFudanPed/PNGImages/FudanPed00065.png  \n",
            "  inflating: PennFudanPed/PNGImages/FudanPed00066.png  \n",
            "  inflating: PennFudanPed/PNGImages/FudanPed00067.png  \n",
            "  inflating: PennFudanPed/PNGImages/FudanPed00068.png  \n",
            "  inflating: PennFudanPed/PNGImages/FudanPed00069.png  \n",
            "  inflating: PennFudanPed/PNGImages/FudanPed00070.png  \n",
            "  inflating: PennFudanPed/PNGImages/FudanPed00071.png  \n",
            "  inflating: PennFudanPed/PNGImages/FudanPed00072.png  \n",
            "  inflating: PennFudanPed/PNGImages/FudanPed00073.png  \n",
            "  inflating: PennFudanPed/PNGImages/FudanPed00074.png  \n",
            "  inflating: PennFudanPed/PNGImages/PennPed00001.png  \n",
            "  inflating: PennFudanPed/PNGImages/PennPed00002.png  \n",
            "  inflating: PennFudanPed/PNGImages/PennPed00003.png  \n",
            "  inflating: PennFudanPed/PNGImages/PennPed00004.png  \n",
            "  inflating: PennFudanPed/PNGImages/PennPed00005.png  \n",
            "  inflating: PennFudanPed/PNGImages/PennPed00006.png  \n",
            "  inflating: PennFudanPed/PNGImages/PennPed00007.png  \n",
            "  inflating: PennFudanPed/PNGImages/PennPed00008.png  \n",
            "  inflating: PennFudanPed/PNGImages/PennPed00009.png  \n",
            "  inflating: PennFudanPed/PNGImages/PennPed00010.png  \n",
            "  inflating: PennFudanPed/PNGImages/PennPed00011.png  \n",
            "  inflating: PennFudanPed/PNGImages/PennPed00012.png  \n",
            "  inflating: PennFudanPed/PNGImages/PennPed00013.png  \n",
            "  inflating: PennFudanPed/PNGImages/PennPed00014.png  \n",
            "  inflating: PennFudanPed/PNGImages/PennPed00015.png  \n",
            "  inflating: PennFudanPed/PNGImages/PennPed00016.png  \n",
            "  inflating: PennFudanPed/PNGImages/PennPed00017.png  \n",
            "  inflating: PennFudanPed/PNGImages/PennPed00018.png  \n",
            "  inflating: PennFudanPed/PNGImages/PennPed00019.png  \n",
            "  inflating: PennFudanPed/PNGImages/PennPed00020.png  \n",
            "  inflating: PennFudanPed/PNGImages/PennPed00021.png  \n",
            "  inflating: PennFudanPed/PNGImages/PennPed00022.png  \n",
            "  inflating: PennFudanPed/PNGImages/PennPed00023.png  \n",
            "  inflating: PennFudanPed/PNGImages/PennPed00024.png  \n",
            "  inflating: PennFudanPed/PNGImages/PennPed00025.png  \n",
            "  inflating: PennFudanPed/PNGImages/PennPed00026.png  \n",
            "  inflating: PennFudanPed/PNGImages/PennPed00027.png  \n",
            "  inflating: PennFudanPed/PNGImages/PennPed00028.png  \n",
            "  inflating: PennFudanPed/PNGImages/PennPed00029.png  \n",
            "  inflating: PennFudanPed/PNGImages/PennPed00030.png  \n",
            "  inflating: PennFudanPed/PNGImages/PennPed00031.png  \n",
            "  inflating: PennFudanPed/PNGImages/PennPed00032.png  \n",
            "  inflating: PennFudanPed/PNGImages/PennPed00033.png  \n",
            "  inflating: PennFudanPed/PNGImages/PennPed00034.png  \n",
            "  inflating: PennFudanPed/PNGImages/PennPed00035.png  \n",
            "  inflating: PennFudanPed/PNGImages/PennPed00036.png  \n",
            "  inflating: PennFudanPed/PNGImages/PennPed00037.png  \n",
            "  inflating: PennFudanPed/PNGImages/PennPed00038.png  \n",
            "  inflating: PennFudanPed/PNGImages/PennPed00039.png  \n",
            "  inflating: PennFudanPed/PNGImages/PennPed00040.png  \n",
            "  inflating: PennFudanPed/PNGImages/PennPed00041.png  \n",
            "  inflating: PennFudanPed/PNGImages/PennPed00042.png  \n",
            "  inflating: PennFudanPed/PNGImages/PennPed00043.png  \n",
            "  inflating: PennFudanPed/PNGImages/PennPed00044.png  \n",
            "  inflating: PennFudanPed/PNGImages/PennPed00045.png  \n",
            "  inflating: PennFudanPed/PNGImages/PennPed00046.png  \n",
            "  inflating: PennFudanPed/PNGImages/PennPed00047.png  \n",
            "  inflating: PennFudanPed/PNGImages/PennPed00048.png  \n",
            "  inflating: PennFudanPed/PNGImages/PennPed00049.png  \n",
            "  inflating: PennFudanPed/PNGImages/PennPed00050.png  \n",
            "  inflating: PennFudanPed/PNGImages/PennPed00051.png  \n",
            "  inflating: PennFudanPed/PNGImages/PennPed00052.png  \n",
            "  inflating: PennFudanPed/PNGImages/PennPed00053.png  \n",
            "  inflating: PennFudanPed/PNGImages/PennPed00054.png  \n",
            "  inflating: PennFudanPed/PNGImages/PennPed00055.png  \n",
            "  inflating: PennFudanPed/PNGImages/PennPed00056.png  \n",
            "  inflating: PennFudanPed/PNGImages/PennPed00057.png  \n",
            "  inflating: PennFudanPed/PNGImages/PennPed00058.png  \n",
            "  inflating: PennFudanPed/PNGImages/PennPed00059.png  \n",
            "  inflating: PennFudanPed/PNGImages/PennPed00060.png  \n",
            "  inflating: PennFudanPed/PNGImages/PennPed00061.png  \n",
            "  inflating: PennFudanPed/PNGImages/PennPed00062.png  \n",
            "  inflating: PennFudanPed/PNGImages/PennPed00063.png  \n",
            "  inflating: PennFudanPed/PNGImages/PennPed00064.png  \n",
            "  inflating: PennFudanPed/PNGImages/PennPed00065.png  \n",
            "  inflating: PennFudanPed/PNGImages/PennPed00066.png  \n",
            "  inflating: PennFudanPed/PNGImages/PennPed00067.png  \n",
            "  inflating: PennFudanPed/PNGImages/PennPed00068.png  \n",
            "  inflating: PennFudanPed/PNGImages/PennPed00069.png  \n",
            "  inflating: PennFudanPed/PNGImages/PennPed00070.png  \n",
            "  inflating: PennFudanPed/PNGImages/PennPed00071.png  \n",
            "  inflating: PennFudanPed/PNGImages/PennPed00072.png  \n",
            "  inflating: PennFudanPed/PNGImages/PennPed00073.png  \n",
            "  inflating: PennFudanPed/PNGImages/PennPed00074.png  \n",
            "  inflating: PennFudanPed/PNGImages/PennPed00075.png  \n",
            "  inflating: PennFudanPed/PNGImages/PennPed00076.png  \n",
            "  inflating: PennFudanPed/PNGImages/PennPed00077.png  \n",
            "  inflating: PennFudanPed/PNGImages/PennPed00078.png  \n",
            "  inflating: PennFudanPed/PNGImages/PennPed00079.png  \n",
            "  inflating: PennFudanPed/PNGImages/PennPed00080.png  \n",
            "  inflating: PennFudanPed/PNGImages/PennPed00081.png  \n",
            "  inflating: PennFudanPed/PNGImages/PennPed00082.png  \n",
            "  inflating: PennFudanPed/PNGImages/PennPed00083.png  \n",
            "  inflating: PennFudanPed/PNGImages/PennPed00084.png  \n",
            "  inflating: PennFudanPed/PNGImages/PennPed00085.png  \n",
            "  inflating: PennFudanPed/PNGImages/PennPed00086.png  \n",
            "  inflating: PennFudanPed/PNGImages/PennPed00087.png  \n",
            "  inflating: PennFudanPed/PNGImages/PennPed00088.png  \n",
            "  inflating: PennFudanPed/PNGImages/PennPed00089.png  \n",
            "  inflating: PennFudanPed/PNGImages/PennPed00090.png  \n",
            "  inflating: PennFudanPed/PNGImages/PennPed00091.png  \n",
            "  inflating: PennFudanPed/PNGImages/PennPed00092.png  \n",
            "  inflating: PennFudanPed/PNGImages/PennPed00093.png  \n",
            "  inflating: PennFudanPed/PNGImages/PennPed00094.png  \n",
            "  inflating: PennFudanPed/PNGImages/PennPed00095.png  \n",
            "  inflating: PennFudanPed/PNGImages/PennPed00096.png  \n",
            "  inflating: PennFudanPed/readme.txt  \n"
          ]
        },
        {
          "output_type": "execute_result",
          "data": {
            "text/plain": []
          },
          "metadata": {},
          "execution_count": 2
        }
      ]
    },
    {
      "cell_type": "code",
      "source": [
        "os.chdir('/content/PennFudanPed/PNGImages')\n",
        "lst_org   = os.listdir('/content/PennFudanPed/PNGImages')\n",
        "print(lst_org)"
      ],
      "metadata": {
        "colab": {
          "base_uri": "https://localhost:8080/"
        },
        "id": "jccK4xstSGFJ",
        "outputId": "57a1dd94-6d79-4dbd-a444-2b299932f47f"
      },
      "execution_count": 3,
      "outputs": [
        {
          "output_type": "stream",
          "name": "stdout",
          "text": [
            "['PennPed00076.png', 'FudanPed00028.png', 'PennPed00081.png', 'PennPed00065.png', 'PennPed00053.png', 'FudanPed00010.png', 'FudanPed00062.png', 'PennPed00014.png', 'FudanPed00051.png', 'FudanPed00047.png', 'FudanPed00052.png', 'FudanPed00009.png', 'FudanPed00014.png', 'FudanPed00025.png', 'PennPed00095.png', 'PennPed00047.png', 'FudanPed00072.png', 'PennPed00013.png', 'PennPed00017.png', 'FudanPed00048.png', 'PennPed00082.png', 'PennPed00015.png', 'PennPed00040.png', 'FudanPed00046.png', 'FudanPed00064.png', 'FudanPed00065.png', 'PennPed00059.png', 'FudanPed00043.png', 'PennPed00002.png', 'PennPed00049.png', 'PennPed00092.png', 'PennPed00020.png', 'FudanPed00056.png', 'PennPed00072.png', 'PennPed00093.png', 'FudanPed00024.png', 'PennPed00091.png', 'PennPed00022.png', 'PennPed00078.png', 'FudanPed00016.png', 'FudanPed00066.png', 'FudanPed00027.png', 'PennPed00052.png', 'PennPed00089.png', 'FudanPed00015.png', 'PennPed00064.png', 'FudanPed00040.png', 'FudanPed00059.png', 'FudanPed00057.png', 'FudanPed00041.png', 'PennPed00011.png', 'PennPed00066.png', 'PennPed00028.png', 'FudanPed00070.png', 'FudanPed00055.png', 'PennPed00019.png', 'PennPed00004.png', 'PennPed00056.png', 'FudanPed00007.png', 'FudanPed00074.png', 'FudanPed00013.png', 'FudanPed00022.png', 'PennPed00080.png', 'PennPed00055.png', 'FudanPed00063.png', 'PennPed00070.png', 'PennPed00025.png', 'PennPed00027.png', 'PennPed00026.png', 'PennPed00077.png', 'PennPed00023.png', 'PennPed00018.png', 'FudanPed00006.png', 'PennPed00085.png', 'PennPed00036.png', 'FudanPed00060.png', 'PennPed00041.png', 'FudanPed00050.png', 'FudanPed00023.png', 'FudanPed00036.png', 'PennPed00067.png', 'PennPed00007.png', 'PennPed00063.png', 'FudanPed00005.png', 'FudanPed00049.png', 'PennPed00050.png', 'PennPed00079.png', 'PennPed00096.png', 'FudanPed00053.png', 'PennPed00069.png', 'PennPed00042.png', 'FudanPed00012.png', 'FudanPed00038.png', 'FudanPed00067.png', 'FudanPed00032.png', 'FudanPed00020.png', 'PennPed00032.png', 'FudanPed00039.png', 'FudanPed00031.png', 'PennPed00043.png', 'PennPed00087.png', 'FudanPed00045.png', 'PennPed00060.png', 'PennPed00016.png', 'PennPed00062.png', 'FudanPed00026.png', 'FudanPed00021.png', 'PennPed00045.png', 'PennPed00086.png', 'FudanPed00035.png', 'PennPed00009.png', 'PennPed00005.png', 'PennPed00048.png', 'PennPed00051.png', 'PennPed00075.png', 'PennPed00001.png', 'PennPed00035.png', 'PennPed00029.png', 'PennPed00030.png', 'PennPed00084.png', 'FudanPed00017.png', 'PennPed00094.png', 'FudanPed00037.png', 'FudanPed00044.png', 'FudanPed00071.png', 'PennPed00058.png', 'FudanPed00069.png', 'PennPed00031.png', 'FudanPed00033.png', 'FudanPed00058.png', 'PennPed00010.png', 'FudanPed00034.png', 'FudanPed00018.png', 'PennPed00073.png', 'PennPed00039.png', 'PennPed00034.png', 'FudanPed00061.png', 'FudanPed00004.png', 'PennPed00006.png', 'PennPed00054.png', 'PennPed00071.png', 'PennPed00024.png', 'FudanPed00008.png', 'FudanPed00073.png', 'PennPed00083.png', 'FudanPed00011.png', 'FudanPed00029.png', 'FudanPed00003.png', 'PennPed00033.png', 'PennPed00046.png', 'PennPed00037.png', 'FudanPed00054.png', 'FudanPed00002.png', 'FudanPed00068.png', 'PennPed00038.png', 'PennPed00074.png', 'PennPed00057.png', 'PennPed00003.png', 'PennPed00044.png', 'PennPed00021.png', 'PennPed00008.png', 'PennPed00088.png', 'PennPed00061.png', 'PennPed00068.png', 'FudanPed00030.png', 'FudanPed00001.png', 'PennPed00012.png', 'PennPed00090.png', 'FudanPed00019.png', 'FudanPed00042.png']\n"
          ]
        }
      ]
    },
    {
      "cell_type": "code",
      "source": [
        "os.chdir('/content/PennFudanPed/PedMasks')\n",
        "lst_mask   = os.listdir('/content/PennFudanPed/PedMasks')\n",
        "print(lst_mask)"
      ],
      "metadata": {
        "colab": {
          "base_uri": "https://localhost:8080/"
        },
        "id": "B4ude1wiSGHl",
        "outputId": "1e8e27a8-abc5-4263-992b-32ae0b10bd47"
      },
      "execution_count": 4,
      "outputs": [
        {
          "output_type": "stream",
          "name": "stdout",
          "text": [
            "['PennPed00091_mask.png', 'FudanPed00030_mask.png', 'FudanPed00002_mask.png', 'FudanPed00001_mask.png', 'PennPed00058_mask.png', 'PennPed00009_mask.png', 'FudanPed00056_mask.png', 'FudanPed00021_mask.png', 'PennPed00028_mask.png', 'FudanPed00045_mask.png', 'FudanPed00072_mask.png', 'PennPed00081_mask.png', 'PennPed00047_mask.png', 'FudanPed00061_mask.png', 'FudanPed00012_mask.png', 'PennPed00034_mask.png', 'PennPed00042_mask.png', 'PennPed00025_mask.png', 'FudanPed00032_mask.png', 'FudanPed00023_mask.png', 'PennPed00053_mask.png', 'PennPed00077_mask.png', 'PennPed00041_mask.png', 'PennPed00031_mask.png', 'FudanPed00024_mask.png', 'FudanPed00044_mask.png', 'FudanPed00070_mask.png', 'FudanPed00069_mask.png', 'PennPed00062_mask.png', 'PennPed00073_mask.png', 'PennPed00066_mask.png', 'PennPed00072_mask.png', 'FudanPed00015_mask.png', 'PennPed00016_mask.png', 'FudanPed00010_mask.png', 'PennPed00076_mask.png', 'FudanPed00011_mask.png', 'PennPed00084_mask.png', 'PennPed00032_mask.png', 'FudanPed00029_mask.png', 'PennPed00083_mask.png', 'FudanPed00004_mask.png', 'PennPed00080_mask.png', 'FudanPed00058_mask.png', 'FudanPed00018_mask.png', 'FudanPed00065_mask.png', 'FudanPed00041_mask.png', 'FudanPed00036_mask.png', 'PennPed00040_mask.png', 'FudanPed00003_mask.png', 'PennPed00094_mask.png', 'FudanPed00035_mask.png', 'PennPed00049_mask.png', 'FudanPed00034_mask.png', 'PennPed00086_mask.png', 'FudanPed00042_mask.png', 'FudanPed00048_mask.png', 'PennPed00002_mask.png', 'FudanPed00067_mask.png', 'PennPed00067_mask.png', 'PennPed00027_mask.png', 'PennPed00022_mask.png', 'PennPed00037_mask.png', 'FudanPed00005_mask.png', 'PennPed00079_mask.png', 'PennPed00060_mask.png', 'FudanPed00028_mask.png', 'PennPed00045_mask.png', 'PennPed00093_mask.png', 'PennPed00070_mask.png', 'PennPed00087_mask.png', 'PennPed00061_mask.png', 'FudanPed00074_mask.png', 'PennPed00030_mask.png', 'PennPed00029_mask.png', 'PennPed00092_mask.png', 'PennPed00010_mask.png', 'FudanPed00033_mask.png', 'FudanPed00063_mask.png', 'FudanPed00027_mask.png', 'FudanPed00026_mask.png', 'PennPed00065_mask.png', 'PennPed00095_mask.png', 'PennPed00078_mask.png', 'PennPed00019_mask.png', 'FudanPed00038_mask.png', 'FudanPed00071_mask.png', 'PennPed00005_mask.png', 'PennPed00001_mask.png', 'PennPed00021_mask.png', 'FudanPed00025_mask.png', 'FudanPed00049_mask.png', 'PennPed00096_mask.png', 'FudanPed00052_mask.png', 'FudanPed00016_mask.png', 'PennPed00035_mask.png', 'FudanPed00059_mask.png', 'FudanPed00046_mask.png', 'PennPed00036_mask.png', 'PennPed00089_mask.png', 'PennPed00008_mask.png', 'PennPed00050_mask.png', 'PennPed00052_mask.png', 'PennPed00003_mask.png', 'PennPed00064_mask.png', 'PennPed00056_mask.png', 'FudanPed00047_mask.png', 'PennPed00013_mask.png', 'FudanPed00031_mask.png', 'PennPed00026_mask.png', 'PennPed00085_mask.png', 'FudanPed00062_mask.png', 'PennPed00046_mask.png', 'FudanPed00022_mask.png', 'FudanPed00060_mask.png', 'FudanPed00009_mask.png', 'PennPed00057_mask.png', 'PennPed00059_mask.png', 'PennPed00012_mask.png', 'PennPed00017_mask.png', 'PennPed00071_mask.png', 'PennPed00033_mask.png', 'FudanPed00053_mask.png', 'FudanPed00019_mask.png', 'FudanPed00017_mask.png', 'FudanPed00020_mask.png', 'PennPed00006_mask.png', 'PennPed00011_mask.png', 'FudanPed00073_mask.png', 'PennPed00082_mask.png', 'PennPed00074_mask.png', 'FudanPed00051_mask.png', 'FudanPed00054_mask.png', 'FudanPed00068_mask.png', 'PennPed00090_mask.png', 'PennPed00075_mask.png', 'PennPed00054_mask.png', 'PennPed00014_mask.png', 'FudanPed00039_mask.png', 'PennPed00044_mask.png', 'FudanPed00050_mask.png', 'FudanPed00043_mask.png', 'PennPed00018_mask.png', 'FudanPed00055_mask.png', 'PennPed00069_mask.png', 'PennPed00007_mask.png', 'FudanPed00064_mask.png', 'FudanPed00040_mask.png', 'PennPed00055_mask.png', 'PennPed00088_mask.png', 'FudanPed00014_mask.png', 'FudanPed00007_mask.png', 'FudanPed00006_mask.png', 'PennPed00015_mask.png', 'PennPed00020_mask.png', 'PennPed00048_mask.png', 'PennPed00024_mask.png', 'FudanPed00013_mask.png', 'PennPed00004_mask.png', 'PennPed00043_mask.png', 'FudanPed00008_mask.png', 'PennPed00039_mask.png', 'FudanPed00037_mask.png', 'PennPed00063_mask.png', 'PennPed00023_mask.png', 'FudanPed00066_mask.png', 'PennPed00068_mask.png', 'FudanPed00057_mask.png', 'PennPed00051_mask.png', 'PennPed00038_mask.png']\n"
          ]
        }
      ]
    },
    {
      "cell_type": "code",
      "source": [
        "mask = []\n",
        "img = []\n",
        "for filename in lst_org:\n",
        "   img.append(filename)\n",
        "   \n",
        "for filename in lst_mask:\n",
        "   mask.append(filename)\n",
        "img.sort()\n",
        "mask.sort()"
      ],
      "metadata": {
        "id": "gCIasIHhSGJu"
      },
      "execution_count": 5,
      "outputs": []
    },
    {
      "cell_type": "code",
      "source": [
        "y = np.zeros((170, 28,28), dtype=np.float32)\n",
        "X = np.zeros((170,224, 224, 1), dtype=np.float32)"
      ],
      "metadata": {
        "id": "2epc0WecSGLv"
      },
      "execution_count": 6,
      "outputs": []
    },
    {
      "cell_type": "code",
      "source": [
        "for file in img:\n",
        "  n = img.index(file)\n",
        "  dir_img = os.path.join('/content/PennFudanPed/PNGImages', file)\n",
        "  img_in_use = Image.open(dir_img)\n",
        "  img_in_use = img_in_use.resize((224, 224))\n",
        "  img_in_use = np.reshape(img_in_use.convert('L'), (224,224,1))\n",
        "  X[n] = img_in_use\n",
        "\n",
        "  mask_in_use = mask[n]\n",
        "  dir_mask = os.path.join('/content/PennFudanPed/PedMasks', mask_in_use)\n",
        "  mask_img = cv2.imread(dir_mask)\n",
        "  mask_img = (mask_img!=0)*255.0\n",
        "  mask_img = cv2.resize(mask_img, (28, 28))\n",
        "  mask_img = 1.0*(mask_img[:,:,0])\n",
        "  y[n] = mask_img"
      ],
      "metadata": {
        "id": "1TDCXjwBSGOQ"
      },
      "execution_count": 7,
      "outputs": []
    },
    {
      "cell_type": "code",
      "source": [
        "!pip install git+https://github.com/qubvel/segmentation_models"
      ],
      "metadata": {
        "colab": {
          "base_uri": "https://localhost:8080/"
        },
        "id": "0Z1geNj3SGQq",
        "outputId": "1cadbea2-bbdd-4b85-be93-a0450e13fbe1"
      },
      "execution_count": 8,
      "outputs": [
        {
          "output_type": "stream",
          "name": "stdout",
          "text": [
            "Looking in indexes: https://pypi.org/simple, https://us-python.pkg.dev/colab-wheels/public/simple/\n",
            "Collecting git+https://github.com/qubvel/segmentation_models\n",
            "  Cloning https://github.com/qubvel/segmentation_models to /tmp/pip-req-build-vmmvyyz1\n",
            "  Running command git clone --filter=blob:none --quiet https://github.com/qubvel/segmentation_models /tmp/pip-req-build-vmmvyyz1\n",
            "  Resolved https://github.com/qubvel/segmentation_models to commit e951c6747f75fa9e7240816d1c79dd2e66813123\n",
            "  Running command git submodule update --init --recursive -q\n",
            "  Preparing metadata (setup.py) ... \u001b[?25l\u001b[?25hdone\n",
            "Collecting keras_applications<=1.0.8,>=1.0.7\n",
            "  Downloading Keras_Applications-1.0.8-py3-none-any.whl (50 kB)\n",
            "\u001b[2K     \u001b[90m━━━━━━━━━━━━━━━━━━━━━━━━━━━━━━━━━━━━━━━━\u001b[0m \u001b[32m50.7/50.7 kB\u001b[0m \u001b[31m5.3 MB/s\u001b[0m eta \u001b[36m0:00:00\u001b[0m\n",
            "\u001b[?25hCollecting image-classifiers==1.0.0\n",
            "  Downloading image_classifiers-1.0.0-py3-none-any.whl (19 kB)\n",
            "Collecting efficientnet==1.0.0\n",
            "  Downloading efficientnet-1.0.0-py3-none-any.whl (17 kB)\n",
            "Requirement already satisfied: scikit-image in /usr/local/lib/python3.9/dist-packages (from efficientnet==1.0.0->segmentation-models==1.0.1) (0.19.3)\n",
            "Requirement already satisfied: numpy>=1.9.1 in /usr/local/lib/python3.9/dist-packages (from keras_applications<=1.0.8,>=1.0.7->segmentation-models==1.0.1) (1.22.4)\n",
            "Requirement already satisfied: h5py in /usr/local/lib/python3.9/dist-packages (from keras_applications<=1.0.8,>=1.0.7->segmentation-models==1.0.1) (3.8.0)\n",
            "Requirement already satisfied: pillow!=7.1.0,!=7.1.1,!=8.3.0,>=6.1.0 in /usr/local/lib/python3.9/dist-packages (from scikit-image->efficientnet==1.0.0->segmentation-models==1.0.1) (8.4.0)\n",
            "Requirement already satisfied: imageio>=2.4.1 in /usr/local/lib/python3.9/dist-packages (from scikit-image->efficientnet==1.0.0->segmentation-models==1.0.1) (2.25.1)\n",
            "Requirement already satisfied: packaging>=20.0 in /usr/local/lib/python3.9/dist-packages (from scikit-image->efficientnet==1.0.0->segmentation-models==1.0.1) (23.0)\n",
            "Requirement already satisfied: networkx>=2.2 in /usr/local/lib/python3.9/dist-packages (from scikit-image->efficientnet==1.0.0->segmentation-models==1.0.1) (3.1)\n",
            "Requirement already satisfied: scipy>=1.4.1 in /usr/local/lib/python3.9/dist-packages (from scikit-image->efficientnet==1.0.0->segmentation-models==1.0.1) (1.10.1)\n",
            "Requirement already satisfied: tifffile>=2019.7.26 in /usr/local/lib/python3.9/dist-packages (from scikit-image->efficientnet==1.0.0->segmentation-models==1.0.1) (2023.3.21)\n",
            "Requirement already satisfied: PyWavelets>=1.1.1 in /usr/local/lib/python3.9/dist-packages (from scikit-image->efficientnet==1.0.0->segmentation-models==1.0.1) (1.4.1)\n",
            "Building wheels for collected packages: segmentation-models\n",
            "  Building wheel for segmentation-models (setup.py) ... \u001b[?25l\u001b[?25hdone\n",
            "  Created wheel for segmentation-models: filename=segmentation_models-1.0.1-py3-none-any.whl size=33806 sha256=cf0b4afc90f24f9ad88fc5658ff9049a75c694734fa8b3f66fc9ecbf26ad804e\n",
            "  Stored in directory: /tmp/pip-ephem-wheel-cache-hp6txhi7/wheels/7e/e5/3d/85e32947c53e03f210361da47652f05b6f4e1c3e58f20e0ae3\n",
            "Successfully built segmentation-models\n",
            "Installing collected packages: keras_applications, image-classifiers, efficientnet, segmentation-models\n",
            "Successfully installed efficientnet-1.0.0 image-classifiers-1.0.0 keras_applications-1.0.8 segmentation-models-1.0.1\n"
          ]
        }
      ]
    },
    {
      "cell_type": "code",
      "source": [
        "from segmentation_models import Unet\n",
        "from segmentation_models import get_preprocessing\n",
        "from segmentation_models.losses import bce_jaccard_loss\n",
        "from segmentation_models.metrics import iou_score\n",
        "from sklearn.model_selection import train_test_split\n",
        "import tensorflow as tf\n",
        "from keras.optimizers import Adam\n",
        "from keras.losses import binary_crossentropy\n",
        "from keras.models import model_from_json\n",
        "\n",
        "from keras.layers import Input, Conv2D, Reshape\n",
        "from keras.models import Model"
      ],
      "metadata": {
        "colab": {
          "base_uri": "https://localhost:8080/"
        },
        "id": "j5LyaBtSSGSA",
        "outputId": "fc70fca4-9a4b-45df-effa-a489dd540ee9"
      },
      "execution_count": 11,
      "outputs": [
        {
          "output_type": "stream",
          "name": "stdout",
          "text": [
            "Segmentation Models: using `tf.keras` framework.\n"
          ]
        }
      ]
    },
    {
      "cell_type": "code",
      "source": [
        "!pip install -U -q segmentation-models\n",
        "!pip install -q tensorflow==2.2.1\n",
        "!pip install -q keras==2.5\n",
        "import os\n",
        "os.environ[\"SM_FRAMEWORK\"] = \"tf.keras\""
      ],
      "metadata": {
        "colab": {
          "base_uri": "https://localhost:8080/"
        },
        "id": "CvvdLMkQSpT5",
        "outputId": "edd02e7d-79b4-43ab-ae32-33f2ed6d78b1"
      },
      "execution_count": 10,
      "outputs": [
        {
          "output_type": "stream",
          "name": "stdout",
          "text": [
            "\u001b[31mERROR: Could not find a version that satisfies the requirement tensorflow==2.2.1 (from versions: 2.5.0, 2.5.1, 2.5.2, 2.5.3, 2.6.0rc0, 2.6.0rc1, 2.6.0rc2, 2.6.0, 2.6.1, 2.6.2, 2.6.3, 2.6.4, 2.6.5, 2.7.0rc0, 2.7.0rc1, 2.7.0, 2.7.1, 2.7.2, 2.7.3, 2.7.4, 2.8.0rc0, 2.8.0rc1, 2.8.0, 2.8.1, 2.8.2, 2.8.3, 2.8.4, 2.9.0rc0, 2.9.0rc1, 2.9.0rc2, 2.9.0, 2.9.1, 2.9.2, 2.9.3, 2.10.0rc0, 2.10.0rc1, 2.10.0rc2, 2.10.0rc3, 2.10.0, 2.10.1, 2.11.0rc0, 2.11.0rc1, 2.11.0rc2, 2.11.0, 2.11.1, 2.12.0rc0, 2.12.0rc1, 2.12.0)\u001b[0m\u001b[31m\n",
            "\u001b[0m\u001b[31mERROR: No matching distribution found for tensorflow==2.2.1\u001b[0m\u001b[31m\n",
            "\u001b[0m\u001b[31mERROR: Could not find a version that satisfies the requirement keras==2.5 (from versions: 0.2.0, 0.3.0, 0.3.1, 0.3.2, 0.3.3, 1.0.0, 1.0.1, 1.0.2, 1.0.3, 1.0.4, 1.0.5, 1.0.6, 1.0.7, 1.0.8, 1.1.0, 1.1.1, 1.1.2, 1.2.0, 1.2.1, 1.2.2, 2.0.0, 2.0.1, 2.0.2, 2.0.3, 2.0.4, 2.0.5, 2.0.6, 2.0.7, 2.0.8, 2.0.9, 2.1.0, 2.1.1, 2.1.2, 2.1.3, 2.1.4, 2.1.5, 2.1.6, 2.2.0, 2.2.1, 2.2.2, 2.2.3, 2.2.4, 2.2.5, 2.3.0, 2.3.1, 2.4.0, 2.4.1, 2.4.2, 2.4.3, 2.5.0rc0, 2.6.0rc0, 2.6.0rc1, 2.6.0rc2, 2.6.0rc3, 2.6.0, 2.7.0rc0, 2.7.0rc2, 2.7.0, 2.8.0rc0, 2.8.0rc1, 2.8.0, 2.9.0rc0, 2.9.0rc1, 2.9.0rc2, 2.9.0, 2.10.0rc0, 2.10.0rc1, 2.10.0, 2.11.0rc0, 2.11.0rc1, 2.11.0rc2, 2.11.0rc3, 2.11.0, 2.12.0rc0, 2.12.0rc1, 2.12.0)\u001b[0m\u001b[31m\n",
            "\u001b[0m\u001b[31mERROR: No matching distribution found for keras==2.5\u001b[0m\u001b[31m\n",
            "\u001b[0m"
          ]
        }
      ]
    },
    {
      "cell_type": "code",
      "source": [
        "X_train, X_test, y_train, y_test = train_test_split(X, y, test_size=0.2)\n",
        "BACKBONE = 'resnet34'\n",
        "preprocess_input = get_preprocessing(BACKBONE)\n",
        "X_train = preprocess_input(X_train)\n",
        "X_test = preprocess_input(X_test)"
      ],
      "metadata": {
        "id": "ubGFhIHaSGUT"
      },
      "execution_count": 12,
      "outputs": []
    },
    {
      "cell_type": "code",
      "source": [
        "from keras.layers import Reshape\n",
        "from keras.layers import BatchNormalization\n",
        "N = X_train.shape[-1]\n",
        "\n",
        "base_model = Unet(backbone_name='resnet34', encoder_weights='imagenet')\n",
        "\n",
        "input_base_model = Input(shape=(224, 224, N))\n",
        "\n",
        "l1 = Conv2D(3, (1, 1))(input_base_model)\n",
        "\n",
        "out = base_model(l1)\n",
        "\n",
        "x1 = Conv2D(10, kernel_size =3,strides=2,padding = \"same\", activation=\"relu\")(out)\n",
        "x1 = BatchNormalization()(x1)\n",
        "\n",
        "x2= Conv2D(10, kernel_size=3,strides=2,padding = \"same\", activation=\"relu\")(x1)\n",
        "x2 = BatchNormalization()(x2)\n",
        "\n",
        "x3 = Conv2D(10, kernel_size=3,strides=2,padding = \"same\", activation=\"relu\")(x2)\n",
        "x3 = BatchNormalization()(x3)\n",
        "\n",
        "x4 = Conv2D(1, kernel_size=1,strides=1,padding = \"same\", activation=\"relu\")(x3)\n",
        "\n",
        "x_out = Reshape((28,28))(x4)\n",
        "\n",
        "model = Model(input_base_model, x_out, name=base_model.name)"
      ],
      "metadata": {
        "colab": {
          "base_uri": "https://localhost:8080/"
        },
        "id": "Pb4LcPOHSUVU",
        "outputId": "7d2fb3a2-7f0a-4e6a-bbf9-5615063cffb5"
      },
      "execution_count": 13,
      "outputs": [
        {
          "output_type": "stream",
          "name": "stdout",
          "text": [
            "Downloading data from https://github.com/qubvel/classification_models/releases/download/0.0.1/resnet34_imagenet_1000_no_top.h5\n",
            "85521592/85521592 [==============================] - 1s 0us/step\n"
          ]
        }
      ]
    },
    {
      "cell_type": "code",
      "source": [
        "def dice_coefficient(y_true, y_pred):\n",
        "    numerator = 2 * tf.reduce_sum(y_true * y_pred)\n",
        "    denominator = tf.reduce_sum(y_true + y_pred)\n",
        "\n",
        "    return numerator / (denominator + tf.keras.backend.epsilon())\n",
        "\n",
        "def loss(y_true, y_pred):\n",
        "    return binary_crossentropy(y_true, y_pred) - tf.math.log(dice_coefficient(y_true, y_pred) + tf.keras.backend.epsilon())\n",
        "\n",
        "model.compile(optimizer='sgd', loss=loss, metrics=[dice_coefficient])\n",
        "\n",
        "model.fit(X_train,y_train,batch_size=32,epochs=10,validation_data=(X_test, y_test))"
      ],
      "metadata": {
        "colab": {
          "base_uri": "https://localhost:8080/"
        },
        "id": "FOyTBnMJSUXl",
        "outputId": "946ae90a-d895-4341-e169-aeadd62a24d3"
      },
      "execution_count": 14,
      "outputs": [
        {
          "output_type": "stream",
          "name": "stdout",
          "text": [
            "Epoch 1/10\n",
            "5/5 [==============================] - 189s 35s/step - loss: 4.9562 - dice_coefficient: 0.3577 - val_loss: 12.6148 - val_dice_coefficient: 2.3440e-04\n",
            "Epoch 2/10\n",
            "5/5 [==============================] - 183s 36s/step - loss: 4.4190 - dice_coefficient: 0.3609 - val_loss: 1.9650 - val_dice_coefficient: 0.2319\n",
            "Epoch 3/10\n",
            "5/5 [==============================] - 173s 33s/step - loss: 4.6058 - dice_coefficient: 0.3530 - val_loss: 10.2304 - val_dice_coefficient: 0.0015\n",
            "Epoch 4/10\n",
            "5/5 [==============================] - 173s 34s/step - loss: 3.0262 - dice_coefficient: 0.4514 - val_loss: 2.3266 - val_dice_coefficient: 0.1551\n",
            "Epoch 5/10\n",
            "5/5 [==============================] - 170s 33s/step - loss: 2.5399 - dice_coefficient: 0.4544 - val_loss: 10.6598 - val_dice_coefficient: 0.0017\n",
            "Epoch 6/10\n",
            "5/5 [==============================] - 177s 35s/step - loss: 2.5203 - dice_coefficient: 0.4750 - val_loss: 4.1217 - val_dice_coefficient: 0.0362\n",
            "Epoch 7/10\n",
            "5/5 [==============================] - 172s 33s/step - loss: 2.1706 - dice_coefficient: 0.5125 - val_loss: 18.6421 - val_dice_coefficient: 0.0000e+00\n",
            "Epoch 8/10\n",
            "5/5 [==============================] - 172s 33s/step - loss: 4.5485 - dice_coefficient: 0.2398 - val_loss: 12.2902 - val_dice_coefficient: 4.2493e-05\n",
            "Epoch 9/10\n",
            "5/5 [==============================] - 182s 36s/step - loss: 2.2629 - dice_coefficient: 0.3828 - val_loss: 10.6745 - val_dice_coefficient: 2.4673e-04\n",
            "Epoch 10/10\n",
            "5/5 [==============================] - 174s 33s/step - loss: 2.0467 - dice_coefficient: 0.3927 - val_loss: 10.5968 - val_dice_coefficient: 7.3736e-04\n"
          ]
        },
        {
          "output_type": "execute_result",
          "data": {
            "text/plain": [
              "<keras.callbacks.History at 0x7efc7290c730>"
            ]
          },
          "metadata": {},
          "execution_count": 14
        }
      ]
    },
    {
      "cell_type": "code",
      "source": [
        "model.summary()"
      ],
      "metadata": {
        "colab": {
          "base_uri": "https://localhost:8080/"
        },
        "id": "G3G6mctGSUZg",
        "outputId": "fcecae9f-a0e4-426a-c84d-64d901e59c45"
      },
      "execution_count": 16,
      "outputs": [
        {
          "output_type": "stream",
          "name": "stdout",
          "text": [
            "Model: \"model_1\"\n",
            "_________________________________________________________________\n",
            " Layer (type)                Output Shape              Param #   \n",
            "=================================================================\n",
            " input_1 (InputLayer)        [(None, 224, 224, 1)]     0         \n",
            "                                                                 \n",
            " conv2d (Conv2D)             (None, 224, 224, 3)       6         \n",
            "                                                                 \n",
            " model_1 (Functional)        (None, None, None, 1)     24456154  \n",
            "                                                                 \n",
            " conv2d_1 (Conv2D)           (None, 112, 112, 10)      100       \n",
            "                                                                 \n",
            " batch_normalization (BatchN  (None, 112, 112, 10)     40        \n",
            " ormalization)                                                   \n",
            "                                                                 \n",
            " conv2d_2 (Conv2D)           (None, 56, 56, 10)        910       \n",
            "                                                                 \n",
            " batch_normalization_1 (Batc  (None, 56, 56, 10)       40        \n",
            " hNormalization)                                                 \n",
            "                                                                 \n",
            " conv2d_3 (Conv2D)           (None, 28, 28, 10)        910       \n",
            "                                                                 \n",
            " batch_normalization_2 (Batc  (None, 28, 28, 10)       40        \n",
            " hNormalization)                                                 \n",
            "                                                                 \n",
            " conv2d_4 (Conv2D)           (None, 28, 28, 1)         11        \n",
            "                                                                 \n",
            " reshape (Reshape)           (None, 28, 28)            0         \n",
            "                                                                 \n",
            "=================================================================\n",
            "Total params: 24,458,211\n",
            "Trainable params: 24,440,801\n",
            "Non-trainable params: 17,410\n",
            "_________________________________________________________________\n"
          ]
        }
      ]
    },
    {
      "cell_type": "code",
      "source": [
        "training_pred = model.predict(X_train)\n",
        "testing_pred = model.predict(X_test)"
      ],
      "metadata": {
        "colab": {
          "base_uri": "https://localhost:8080/"
        },
        "id": "50mjHKHDSGW2",
        "outputId": "15d34d83-4276-44dc-edd6-ae21e4252440"
      },
      "execution_count": 17,
      "outputs": [
        {
          "output_type": "stream",
          "name": "stdout",
          "text": [
            "5/5 [==============================] - 38s 7s/step\n",
            "2/2 [==============================] - 9s 940ms/step\n"
          ]
        }
      ]
    },
    {
      "cell_type": "code",
      "source": [
        "training_pred[0].shape"
      ],
      "metadata": {
        "colab": {
          "base_uri": "https://localhost:8080/"
        },
        "id": "MsHwvNh1SGZZ",
        "outputId": "60ec3c47-3832-452a-ade1-23aec9b481de"
      },
      "execution_count": 20,
      "outputs": [
        {
          "output_type": "execute_result",
          "data": {
            "text/plain": [
              "(28, 28)"
            ]
          },
          "metadata": {},
          "execution_count": 20
        }
      ]
    },
    {
      "cell_type": "code",
      "source": [
        "import matplotlib.pyplot as plt"
      ],
      "metadata": {
        "id": "kbFytnHpaOZh"
      },
      "execution_count": 21,
      "outputs": []
    },
    {
      "cell_type": "code",
      "source": [
        "plt.imshow(training_pred[4]*255)"
      ],
      "metadata": {
        "colab": {
          "base_uri": "https://localhost:8080/",
          "height": 447
        },
        "id": "2N_LaNnKaObl",
        "outputId": "52e5cdf4-a81f-4b9a-f243-a1466189a43a"
      },
      "execution_count": 27,
      "outputs": [
        {
          "output_type": "execute_result",
          "data": {
            "text/plain": [
              "<matplotlib.image.AxesImage at 0x7efc61e77040>"
            ]
          },
          "metadata": {},
          "execution_count": 27
        },
        {
          "output_type": "display_data",
          "data": {
            "text/plain": [
              "<Figure size 640x480 with 1 Axes>"
            ],
            "image/png": "[encoded data removed]"
          },
          "metadata": {}
        }
      ]
    }
  ]
}